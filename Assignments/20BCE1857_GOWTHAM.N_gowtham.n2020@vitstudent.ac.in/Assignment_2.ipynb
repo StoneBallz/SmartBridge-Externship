{
  "nbformat": 4,
  "nbformat_minor": 0,
  "metadata": {
    "colab": {
      "provenance": []
    },
    "kernelspec": {
      "name": "python3",
      "display_name": "Python 3"
    },
    "language_info": {
      "name": "python"
    }
  },
  "cells": [
    {
      "cell_type": "markdown",
      "source": [
        "# Assignment 2 - Building an ANN Model\n",
        "---\n",
        "Required imports"
      ],
      "metadata": {
        "id": "DlyqVk7KduT7"
      }
    },
    {
      "cell_type": "code",
      "source": [
        "import pandas as pd\n",
        "from sklearn.preprocessing import LabelEncoder, StandardScaler\n",
        "from sklearn.model_selection import train_test_split\n",
        "import tensorflow as tf\n",
        "from tensorflow import keras\n",
        "import numpy as np"
      ],
      "metadata": {
        "id": "T02O4i4XeicD"
      },
      "execution_count": 14,
      "outputs": []
    },
    {
      "cell_type": "markdown",
      "source": [
        "## Task 1\n",
        "\n",
        "---\n",
        "### Read the dataset and do data pre-processing\n",
        "1. Load CSV file\n",
        "2. Extract the features and the labels\n",
        "3. Do one-hot encoding for non-numerical values\n",
        "4. Standardize the scaling\n"
      ],
      "metadata": {
        "id": "K36zbvT7d2KQ"
      }
    },
    {
      "cell_type": "code",
      "source": [
        "data = pd.read_csv('/content/drug200.csv')\n",
        "\n",
        "features = data.drop('Drug', axis=1)\n",
        "labels = data['Drug']\n",
        "\n",
        "le = LabelEncoder()\n",
        "labels = le.fit_transform(labels)\n",
        "features = pd.get_dummies(features)\n",
        "X_train, X_test, y_train, y_test = train_test_split(features, labels, test_size=0.2, random_state=42)\n",
        "\n",
        "scaler = StandardScaler()\n",
        "X_train = scaler.fit_transform(X_train)\n",
        "X_test = scaler.transform(X_test)"
      ],
      "metadata": {
        "id": "Vwi-RJPCd1Kv"
      },
      "execution_count": 16,
      "outputs": []
    },
    {
      "cell_type": "markdown",
      "source": [
        "## Task 2\n",
        "---\n",
        "### Build the ANN model with (input layer, min 3 hidden layers & output layer)\n",
        "1. Create the model\n",
        "2. Compile the model with an optimizer\n",
        "3. Fit the model with the training data"
      ],
      "metadata": {
        "id": "p2a1N5qBd-5k"
      }
    },
    {
      "cell_type": "code",
      "source": [
        "model = keras.Sequential([\n",
        "    keras.layers.Dense(64, activation='relu', input_shape=(X_train.shape[1],)),\n",
        "    keras.layers.Dense(128, activation='relu'),\n",
        "    keras.layers.Dense(64, activation='relu'),\n",
        "    keras.layers.Dense(5, activation='softmax')\n",
        "])\n",
        "\n",
        "model.compile(optimizer='adam', loss='sparse_categorical_crossentropy', metrics=['accuracy'])\n",
        "\n",
        "model.fit(X_train, y_train, epochs=10, batch_size=32, validation_data=(X_test, y_test))"
      ],
      "metadata": {
        "colab": {
          "base_uri": "https://localhost:8080/"
        },
        "id": "Jzstuo0rd-5l",
        "outputId": "1e1ab51e-99e7-46d1-b61c-35f9e41f4a4a"
      },
      "execution_count": 17,
      "outputs": [
        {
          "output_type": "stream",
          "name": "stdout",
          "text": [
            "Epoch 1/10\n",
            "5/5 [==============================] - 3s 177ms/step - loss: 1.5575 - accuracy: 0.2500 - val_loss: 1.4321 - val_accuracy: 0.4500\n",
            "Epoch 2/10\n",
            "5/5 [==============================] - 0s 9ms/step - loss: 1.3099 - accuracy: 0.6000 - val_loss: 1.2886 - val_accuracy: 0.4750\n",
            "Epoch 3/10\n",
            "5/5 [==============================] - 0s 7ms/step - loss: 1.1383 - accuracy: 0.6187 - val_loss: 1.1782 - val_accuracy: 0.4750\n",
            "Epoch 4/10\n",
            "5/5 [==============================] - 0s 7ms/step - loss: 1.0019 - accuracy: 0.6187 - val_loss: 1.0753 - val_accuracy: 0.5250\n",
            "Epoch 5/10\n",
            "5/5 [==============================] - 0s 13ms/step - loss: 0.8852 - accuracy: 0.6375 - val_loss: 0.9463 - val_accuracy: 0.5750\n",
            "Epoch 6/10\n",
            "5/5 [==============================] - 0s 8ms/step - loss: 0.7666 - accuracy: 0.7063 - val_loss: 0.8128 - val_accuracy: 0.6500\n",
            "Epoch 7/10\n",
            "5/5 [==============================] - 0s 7ms/step - loss: 0.6544 - accuracy: 0.7625 - val_loss: 0.7089 - val_accuracy: 0.7000\n",
            "Epoch 8/10\n",
            "5/5 [==============================] - 0s 7ms/step - loss: 0.5547 - accuracy: 0.8313 - val_loss: 0.6191 - val_accuracy: 0.8000\n",
            "Epoch 9/10\n",
            "5/5 [==============================] - 0s 12ms/step - loss: 0.4715 - accuracy: 0.8750 - val_loss: 0.5330 - val_accuracy: 0.8750\n",
            "Epoch 10/10\n",
            "5/5 [==============================] - 0s 7ms/step - loss: 0.3977 - accuracy: 0.9187 - val_loss: 0.4439 - val_accuracy: 0.8750\n"
          ]
        },
        {
          "output_type": "execute_result",
          "data": {
            "text/plain": [
              "<keras.callbacks.History at 0x7fd6758aecb0>"
            ]
          },
          "metadata": {},
          "execution_count": 17
        }
      ]
    },
    {
      "cell_type": "markdown",
      "source": [
        "## Task 3\n",
        "---\n",
        "### Test the model with random data\n",
        "1. Create 10 random test data and scale them\n",
        "2. Predict the output using the model and match the labels to the output obtained"
      ],
      "metadata": {
        "id": "U0TRyV79d_FS"
      }
    },
    {
      "cell_type": "code",
      "source": [
        "num_samples = 10\n",
        "random_input = np.random.randn(num_samples, X_train.shape[1])\n",
        "random_input_scaled = scaler.transform(random_input)\n",
        "\n",
        "predictions = model.predict(random_input_scaled)\n",
        "predicted_labels = le.inverse_transform(np.argmax(predictions, axis=1))\n",
        "\n",
        "predicted_labels"
      ],
      "metadata": {
        "colab": {
          "base_uri": "https://localhost:8080/"
        },
        "id": "Sp7skQxbd_FT",
        "outputId": "4d244b84-7e7d-476e-f469-5ce1db0b08d9"
      },
      "execution_count": 18,
      "outputs": [
        {
          "output_type": "stream",
          "name": "stdout",
          "text": [
            "1/1 [==============================] - 0s 75ms/step\n"
          ]
        },
        {
          "output_type": "stream",
          "name": "stderr",
          "text": [
            "/usr/local/lib/python3.10/dist-packages/sklearn/base.py:439: UserWarning: X does not have valid feature names, but StandardScaler was fitted with feature names\n",
            "  warnings.warn(\n"
          ]
        },
        {
          "output_type": "execute_result",
          "data": {
            "text/plain": [
              "array(['drugX', 'drugX', 'drugX', 'drugX', 'drugX', 'drugA', 'drugA',\n",
              "       'drugA', 'drugX', 'drugX'], dtype=object)"
            ]
          },
          "metadata": {},
          "execution_count": 18
        }
      ]
    }
  ]
}